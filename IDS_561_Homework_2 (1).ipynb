{
  "nbformat": 4,
  "nbformat_minor": 0,
  "metadata": {
    "colab": {
      "name": "IDS 561 - Homework 2",
      "provenance": []
    },
    "kernelspec": {
      "name": "python3",
      "display_name": "Python 3"
    }
  },
  "cells": [
    {
      "cell_type": "markdown",
      "metadata": {
        "id": "8m2WKK7Zb20j",
        "colab_type": "text"
      },
      "source": [
        "Install Spark"
      ]
    },
    {
      "cell_type": "code",
      "metadata": {
        "id": "joSgSAjjb6pj",
        "colab_type": "code",
        "outputId": "f4ec96c9-4cb2-4ea1-e0f0-f6a637c8ec22",
        "colab": {
          "base_uri": "https://localhost:8080/",
          "height": 54
        }
      },
      "source": [
        "from google.colab import drive\n",
        "drive.mount('/content/drive')"
      ],
      "execution_count": 0,
      "outputs": [
        {
          "output_type": "stream",
          "text": [
            "Drive already mounted at /content/drive; to attempt to forcibly remount, call drive.mount(\"/content/drive\", force_remount=True).\n"
          ],
          "name": "stdout"
        }
      ]
    },
    {
      "cell_type": "code",
      "metadata": {
        "id": "prA9p35nb-EZ",
        "colab_type": "code",
        "colab": {}
      },
      "source": [
        "!apt-get install openjdk-8-jdk-headless -qq > /dev/null"
      ],
      "execution_count": 0,
      "outputs": []
    },
    {
      "cell_type": "code",
      "metadata": {
        "id": "DdVjGk_kcG0g",
        "colab_type": "code",
        "colab": {}
      },
      "source": [
        "!wget -q http://www.gtlib.gatech.edu/pub/apache/spark/spark-2.4.5/spark-2.4.5-bin-hadoop2.7.tgz"
      ],
      "execution_count": 0,
      "outputs": []
    },
    {
      "cell_type": "code",
      "metadata": {
        "id": "2DJx9jfocO9W",
        "colab_type": "code",
        "colab": {}
      },
      "source": [
        "!tar -xvf spark-2.4.5-bin-hadoop2.7.tgz"
      ],
      "execution_count": 0,
      "outputs": []
    },
    {
      "cell_type": "code",
      "metadata": {
        "id": "p9ypTWD6fy6d",
        "colab_type": "code",
        "colab": {}
      },
      "source": [
        "!pip install -q findspark"
      ],
      "execution_count": 0,
      "outputs": []
    },
    {
      "cell_type": "code",
      "metadata": {
        "id": "ALoEwm_Rf_Bc",
        "colab_type": "code",
        "colab": {}
      },
      "source": [
        "import os\n",
        "os.environ[\"JAVA_HOME\"] = \"/usr/lib/jvm/java-8-openjdk-amd64\"\n",
        "os.environ[\"SPARK_HOME\"] = \"/content/spark-2.4.5-bin-hadoop2.7\""
      ],
      "execution_count": 0,
      "outputs": []
    },
    {
      "cell_type": "code",
      "metadata": {
        "id": "m2hOdM-AgCMp",
        "colab_type": "code",
        "colab": {}
      },
      "source": [
        "!pip install -q pyspark"
      ],
      "execution_count": 0,
      "outputs": []
    },
    {
      "cell_type": "code",
      "metadata": {
        "id": "jk7uNQpAgG5K",
        "colab_type": "code",
        "colab": {}
      },
      "source": [
        "import findspark\n",
        "findspark.init(\"spark-2.4.5-bin-hadoop2.7\") # SPARK_HOME\n",
        "from pyspark.sql import SparkSession\n",
        "spark = SparkSession.builder.master(\"local[*]\").getOrCreate()"
      ],
      "execution_count": 0,
      "outputs": []
    },
    {
      "cell_type": "code",
      "metadata": {
        "id": "niZKzP5OgW51",
        "colab_type": "code",
        "colab": {}
      },
      "source": [
        "from pyspark import SparkContext\n",
        "sc =SparkContext.getOrCreate()"
      ],
      "execution_count": 0,
      "outputs": []
    },
    {
      "cell_type": "code",
      "metadata": {
        "id": "Vy97hJJGhKQk",
        "colab_type": "code",
        "colab": {}
      },
      "source": [
        "# !spark-shell\n"
      ],
      "execution_count": 0,
      "outputs": []
    },
    {
      "cell_type": "markdown",
      "metadata": {
        "id": "o7SeWROMhuuu",
        "colab_type": "text"
      },
      "source": [
        "Load data using python commands"
      ]
    },
    {
      "cell_type": "code",
      "metadata": {
        "id": "b2eMTf52hw5E",
        "colab_type": "code",
        "colab": {}
      },
      "source": [
        "myrdd = sc.textFile(\"/content/drive/My Drive/Amazon_Responded_Oct05.csv\").map(lambda line: line.split(\",\"))"
      ],
      "execution_count": 0,
      "outputs": []
    },
    {
      "cell_type": "code",
      "metadata": {
        "id": "os2jFAZybRtG",
        "colab_type": "code",
        "outputId": "4f34acd0-e21d-48e5-bcf1-9745e8da0bee",
        "colab": {
          "base_uri": "https://localhost:8080/",
          "height": 34
        }
      },
      "source": [
        "type(myrdd)"
      ],
      "execution_count": 0,
      "outputs": [
        {
          "output_type": "execute_result",
          "data": {
            "text/plain": [
              "pyspark.rdd.PipelinedRDD"
            ]
          },
          "metadata": {
            "tags": []
          },
          "execution_count": 196
        }
      ]
    },
    {
      "cell_type": "code",
      "metadata": {
        "id": "mTXlX-nPivEg",
        "colab_type": "code",
        "outputId": "0a8381be-7d14-4849-cab4-c02e089d2aa1",
        "colab": {
          "base_uri": "https://localhost:8080/",
          "height": 34
        }
      },
      "source": [
        "myrdd.count()"
      ],
      "execution_count": 0,
      "outputs": [
        {
          "output_type": "execute_result",
          "data": {
            "text/plain": [
              "505839"
            ]
          },
          "metadata": {
            "tags": []
          },
          "execution_count": 197
        }
      ]
    },
    {
      "cell_type": "markdown",
      "metadata": {
        "id": "R6kx2FqsmAWW",
        "colab_type": "text"
      },
      "source": [
        "DataFrame"
      ]
    },
    {
      "cell_type": "code",
      "metadata": {
        "id": "xDvovSSVdC9N",
        "colab_type": "code",
        "colab": {}
      },
      "source": [
        "myrdd_df = spark.read.csv(\"/content/drive/My Drive/Amazon_Responded_Oct05.csv\", header = True, inferSchema=True)"
      ],
      "execution_count": 0,
      "outputs": []
    },
    {
      "cell_type": "code",
      "metadata": {
        "id": "nDpVu6l7l1VL",
        "colab_type": "code",
        "outputId": "20ee676e-9af2-48d2-dece-c830489d4c6f",
        "colab": {
          "base_uri": "https://localhost:8080/",
          "height": 34
        }
      },
      "source": [
        "type(myrdd_df)"
      ],
      "execution_count": 0,
      "outputs": [
        {
          "output_type": "execute_result",
          "data": {
            "text/plain": [
              "pyspark.sql.dataframe.DataFrame"
            ]
          },
          "metadata": {
            "tags": []
          },
          "execution_count": 199
        }
      ]
    },
    {
      "cell_type": "code",
      "metadata": {
        "id": "vbhvnu7cqe2Q",
        "colab_type": "code",
        "outputId": "d34c366b-77c1-4ee5-b327-595106c83d27",
        "colab": {
          "base_uri": "https://localhost:8080/",
          "height": 34
        }
      },
      "source": [
        "myrdd_df.count()"
      ],
      "execution_count": 0,
      "outputs": [
        {
          "output_type": "execute_result",
          "data": {
            "text/plain": [
              "413247"
            ]
          },
          "metadata": {
            "tags": []
          },
          "execution_count": 200
        }
      ]
    },
    {
      "cell_type": "code",
      "metadata": {
        "id": "4jvm5v-Oqlxh",
        "colab_type": "code",
        "outputId": "b255c8b8-a2ad-43f7-ae99-f14f18e49174",
        "colab": {
          "base_uri": "https://localhost:8080/",
          "height": 479
        }
      },
      "source": [
        "myrdd_df.show()"
      ],
      "execution_count": 0,
      "outputs": [
        {
          "output_type": "stream",
          "text": [
            "+--------------------+--------------------+----------------+-----------+-------------------+---------------------+--------------+-----------------+--------------+--------------------+-------------+-------------+--------------------+------------------+--------------------+--------------+--------------------+--------------+---------+-----------------------+-------------------------+-----------------------+-------------+---------+--------------------+\n",
            "|              id_str|    tweet_created_at|user_screen_name|user_id_str|user_statuses_count|user_favourites_count|user_protected|user_listed_count|user_following|    user_description|user_location|user_verified|user_followers_count|user_friends_count|     user_created_at|tweet_language|               text_|favorite_count|favorited|in_reply_to_screen_name|in_reply_to_status_id_str|in_reply_to_user_id_str|retweet_count|retweeted|                text|\n",
            "+--------------------+--------------------+----------------+-----------+-------------------+---------------------+--------------+-----------------+--------------+--------------------+-------------+-------------+--------------------+------------------+--------------------+--------------+--------------------+--------------+---------+-----------------------+-------------------------+-----------------------+-------------+---------+--------------------+\n",
            "|'793270689780203520'|Tue Nov 01 01:57:...|     SeanEPanjab|  143515471|              51287|                 4079|         False|               74|         False|Content marketer;...|   غریب الوطن|        False|                1503|               850|Thu May 13 17:43:...|            en|@AmazonHelp Can y...|             0|    False|             AmazonHelp|                     null|               85741735|            0|    False|                null|\n",
            "|'793281386912354304'|Tue Nov 01 02:39:...|      AmazonHelp|   85741735|            2225450|                11366|         False|              796|         False|We answer Amazon ...|         null|         True|              149569|                53|Wed Oct 28 04:17:...|            en|@SeanEPanjab I'm ...|             0|    False|            SeanEPanjab|     7.932706897802035...|              143515471|            0|    False|                null|\n",
            "|'793501578766319616'|Tue Nov 01 17:14:...|     SeanEPanjab|  143515471|              51287|                 4079|         False|               74|         False|Content marketer;...|   غریب الوطن|        False|                1503|               850|Thu May 13 17:43:...|            en|@AmazonHelp It wa...|             0|    False|             AmazonHelp|     7.932813869123543...|               85741735|            0|    False|@AmazonHelp It wa...|\n",
            "|'793501657346682880'|Tue Nov 01 17:15:...|     SeanEPanjab|  143515471|              51287|                 4079|         False|               74|         False|Content marketer;...|   غریب الوطن|        False|                1503|               850|Thu May 13 17:43:...|            en|@AmazonHelp I am ...|             0|    False|             AmazonHelp|     7.932813869123543...|               85741735|            0|    False|                null|\n",
            "|'793502854459879424'|Tue Nov 01 17:19:...|      AmazonHelp|   85741735|            2225450|                11366|         False|              796|         False|We answer Amazon ...|         null|         True|              149569|                53|Wed Oct 28 04:17:...|            en|@SeanEPanjab Plea...|             0|    False|            SeanEPanjab|     7.935015787663196...|              143515471|            0|    False|@SeanEPanjab Plea...|\n",
            "|'793504235400884224'|Tue Nov 01 17:25:...|      AmazonHelp|   85741735|            2225450|                11366|         False|              796|         False|We answer Amazon ...|         null|         True|              149569|                53|Wed Oct 28 04:17:...|            en|@SeanEPanjab With...|             0|    False|            SeanEPanjab|     7.935016573466829...|              143515471|            0|    False|                null|\n",
            "|'793511847899070465'|Tue Nov 01 17:55:...|     SeanEPanjab|  143515471|              51287|                 4079|         False|               74|         False|Content marketer;...|   غریب الوطن|        False|                1503|               850|Thu May 13 17:43:...|            en|@AmazonHelp It wa...|             0|    False|             AmazonHelp|     7.935042354008842...|               85741735|            0|    False|                null|\n",
            "|'793511899279208449'|Tue Nov 01 17:55:...|     SeanEPanjab|  143515471|              51287|                 4079|         False|               74|         False|Content marketer;...|   غریب الوطن|        False|                1503|               850|Thu May 13 17:43:...|            en|@AmazonHelp if it...|             0|    False|             AmazonHelp|     7.935042354008842...|               85741735|            0|    False|                null|\n",
            "|'793513446633533440'|Tue Nov 01 18:02:...|      AmazonHelp|   85741735|            2225450|                11366|         False|              796|         False|We answer Amazon ...|         null|         True|              149569|                53|Wed Oct 28 04:17:...|            en|@SeanEPanjab I'm ...|             0|    False|            SeanEPanjab|     7.935118992792084...|              143515471|            0|    False|@SeanEPanjab I'm ...|\n",
            "|'793299404975247360'|Tue Nov 01 03:51:...|   aakashwangnoo|   71457972|                592|                  471|         False|               11|         False|Don't try to be G...|    New Delhi|        False|                 234|                57|Fri Sep 04 04:55:...|            en|@JeffBezos @amazo...|             0|    False|              JeffBezos|                     null|               15506669|            0|    False|                null|\n",
            "|'793301295255945216'|Tue Nov 01 03:59:...|      AmazonHelp|   85741735|            2225442|                11366|         False|              796|         False|We answer Amazon ...|         null|         True|              149568|                53|Wed Oct 28 04:17:...|            en|@aakashwangnoo Hi...|             0|    False|          aakashwangnoo|     7.932994049752474...|               71457972|            0|    False|                null|\n",
            "|'793407430344310785'|Tue Nov 01 11:00:...|   aakashwangnoo|   71457972|                592|                  471|         False|               11|         False|Don't try to be G...|    New Delhi|        False|                 234|                57|Fri Sep 04 04:55:...|            en|@AmazonHelp How m...|             0|    False|             AmazonHelp|     7.933012952559452...|               85741735|            0|    False|                null|\n",
            "|'793423313674571776'|Tue Nov 01 12:03:...|      AmazonHelp|   85741735|            2225442|                11366|         False|              796|         False|We answer Amazon ...|         null|         True|              149568|                53|Wed Oct 28 04:17:...|            en|@aakashwangnoo Hi...|             0|    False|          aakashwangnoo|     7.934074303443108...|               71457972|            0|    False|@aakashwangnoo Hi...|\n",
            "|'793423314333134850'|Tue Nov 01 12:03:...|      AmazonHelp|   85741735|            2225442|                11366|         False|              796|         False|We answer Amazon ...|         null|         True|              149568|                53|Wed Oct 28 04:17:...|            en|@aakashwangnoo Pl...|             0|    False|          aakashwangnoo|     7.934074303443108...|               71457972|            0|    False|                null|\n",
            "|'793467086869630977'|Tue Nov 01 14:57:...|   aakashwangnoo|   71457972|                592|                  471|         False|               11|         False|Don't try to be G...|    New Delhi|        False|                 234|                57|Fri Sep 04 04:55:...|            en|@AmazonHelp @amaz...|             0|    False|             AmazonHelp|     7.934233143331348...|               85741735|            0|    False|                null|\n",
            "|'793492430666498050'|Tue Nov 01 16:38:...|      AmazonHelp|   85741735|            2225442|                11366|         False|              796|         False|We answer Amazon ...|         null|         True|              149568|                53|Wed Oct 28 04:17:...|            en|@aakashwangnoo Hi...|             0|    False|          aakashwangnoo|     7.93467086869631e+17|               71457972|            0|    False|@aakashwangnoo Hi...|\n",
            "|'793535036213501952'|Tue Nov 01 19:27:...|   aakashwangnoo|   71457972|                592|                  471|         False|               11|         False|Don't try to be G...|    New Delhi|        False|                 234|                57|Fri Sep 04 04:55:...|            en|@AmazonHelp @amaz...|             0|    False|             AmazonHelp|     7.93492430666498e+17|               85741735|            0|    False|                null|\n",
            "|'793535221329113088'|Tue Nov 01 19:28:...|   aakashwangnoo|   71457972|                592|                  471|         False|               11|         False|Don't try to be G...|    New Delhi|        False|                 234|                57|Fri Sep 04 04:55:...|            en|@AmazonHelp @amaz...|             0|    False|          aakashwangnoo|     7.93535036213502e+17|               71457972|            0|    False|                null|\n",
            "|'793537840533471232'|Tue Nov 01 19:38:...|   aakashwangnoo|   71457972|                592|                  471|         False|               11|         False|Don't try to be G...|    New Delhi|        False|                 234|                57|Fri Sep 04 04:55:...|            en|@AmazonHelp @amaz...|             0|    False|             AmazonHelp|     7.93492430666498e+17|               85741735|            0|    False|@AmazonHelp @amaz...|\n",
            "|'793538125884645376'|Tue Nov 01 19:40:...|   aakashwangnoo|   71457972|                592|                  471|         False|               11|         False|Don't try to be G...|    New Delhi|        False|                 234|                57|Fri Sep 04 04:55:...|            en|@AmazonHelp @amaz...|             0|    False|          aakashwangnoo|     7.935378405334712...|               71457972|            0|    False|@AmazonHelp @amaz...|\n",
            "+--------------------+--------------------+----------------+-----------+-------------------+---------------------+--------------+-----------------+--------------+--------------------+-------------+-------------+--------------------+------------------+--------------------+--------------+--------------------+--------------+---------+-----------------------+-------------------------+-----------------------+-------------+---------+--------------------+\n",
            "only showing top 20 rows\n",
            "\n"
          ],
          "name": "stdout"
        }
      ]
    },
    {
      "cell_type": "markdown",
      "metadata": {
        "id": "gnnjw-1Cyf2p",
        "colab_type": "text"
      },
      "source": [
        "DF that only includes 6 columns"
      ]
    },
    {
      "cell_type": "code",
      "metadata": {
        "id": "phYTj1egxOOx",
        "colab_type": "code",
        "colab": {}
      },
      "source": [
        "new_rdd = myrdd_df.select('id_str', \"tweet_created_at\", \"user_verified\", \"favorite_count\", \"retweet_count\", \"text_\" )"
      ],
      "execution_count": 0,
      "outputs": []
    },
    {
      "cell_type": "markdown",
      "metadata": {
        "id": "14Tw5v2zrvb6",
        "colab_type": "text"
      },
      "source": [
        "Remove records where “user_verified” is “FALSE”"
      ]
    },
    {
      "cell_type": "code",
      "metadata": {
        "id": "T4jpdQEhpW64",
        "colab_type": "code",
        "colab": {}
      },
      "source": [
        "new_myrdd_df = new_rdd.filter(myrdd_df.user_verified == \"True\")\n"
      ],
      "execution_count": 0,
      "outputs": []
    },
    {
      "cell_type": "code",
      "metadata": {
        "id": "yTIZW2Zep-ra",
        "colab_type": "code",
        "outputId": "8602f8a1-6cb2-4295-ead3-8f69b3347500",
        "colab": {
          "base_uri": "https://localhost:8080/",
          "height": 34
        }
      },
      "source": [
        "new_myrdd_df.count()"
      ],
      "execution_count": 0,
      "outputs": [
        {
          "output_type": "execute_result",
          "data": {
            "text/plain": [
              "171797"
            ]
          },
          "metadata": {
            "tags": []
          },
          "execution_count": 204
        }
      ]
    },
    {
      "cell_type": "markdown",
      "metadata": {
        "id": "f8RHLZmssQdK",
        "colab_type": "text"
      },
      "source": [
        "Group by created date"
      ]
    },
    {
      "cell_type": "code",
      "metadata": {
        "id": "nnmfM1sqrEzN",
        "colab_type": "code",
        "outputId": "1e336811-e343-4934-dee2-aa0c4fb2fbe4",
        "colab": {
          "base_uri": "https://localhost:8080/",
          "height": 204
        }
      },
      "source": [
        "new_myrdd_df.show(5)"
      ],
      "execution_count": 0,
      "outputs": [
        {
          "output_type": "stream",
          "text": [
            "+--------------------+--------------------+-------------+--------------+-------------+--------------------+\n",
            "|              id_str|    tweet_created_at|user_verified|favorite_count|retweet_count|               text_|\n",
            "+--------------------+--------------------+-------------+--------------+-------------+--------------------+\n",
            "|'793281386912354304'|Tue Nov 01 02:39:...|         True|             0|            0|@SeanEPanjab I'm ...|\n",
            "|'793502854459879424'|Tue Nov 01 17:19:...|         True|             0|            0|@SeanEPanjab Plea...|\n",
            "|'793504235400884224'|Tue Nov 01 17:25:...|         True|             0|            0|@SeanEPanjab With...|\n",
            "|'793513446633533440'|Tue Nov 01 18:02:...|         True|             0|            0|@SeanEPanjab I'm ...|\n",
            "|'793301295255945216'|Tue Nov 01 03:59:...|         True|             0|            0|@aakashwangnoo Hi...|\n",
            "+--------------------+--------------------+-------------+--------------+-------------+--------------------+\n",
            "only showing top 5 rows\n",
            "\n"
          ],
          "name": "stdout"
        }
      ]
    },
    {
      "cell_type": "code",
      "metadata": {
        "id": "-ooUCto2hI5O",
        "colab_type": "code",
        "outputId": "f9c7517e-0c55-4495-85a4-854a013d7073",
        "colab": {
          "base_uri": "https://localhost:8080/",
          "height": 459
        }
      },
      "source": [
        "df = new_myrdd_df\n",
        "df2 = df.withColumn(\"day\", df.tweet_created_at.substr(5,7))\n",
        "df2.show()"
      ],
      "execution_count": 0,
      "outputs": [
        {
          "output_type": "stream",
          "text": [
            "+--------------------+--------------------+-------------+--------------+-------------+--------------------+-------+\n",
            "|              id_str|    tweet_created_at|user_verified|favorite_count|retweet_count|               text_|    day|\n",
            "+--------------------+--------------------+-------------+--------------+-------------+--------------------+-------+\n",
            "|'793281386912354304'|Tue Nov 01 02:39:...|         True|             0|            0|@SeanEPanjab I'm ...|Nov 01 |\n",
            "|'793502854459879424'|Tue Nov 01 17:19:...|         True|             0|            0|@SeanEPanjab Plea...|Nov 01 |\n",
            "|'793504235400884224'|Tue Nov 01 17:25:...|         True|             0|            0|@SeanEPanjab With...|Nov 01 |\n",
            "|'793513446633533440'|Tue Nov 01 18:02:...|         True|             0|            0|@SeanEPanjab I'm ...|Nov 01 |\n",
            "|'793301295255945216'|Tue Nov 01 03:59:...|         True|             0|            0|@aakashwangnoo Hi...|Nov 01 |\n",
            "|'793423313674571776'|Tue Nov 01 12:03:...|         True|             0|            0|@aakashwangnoo Hi...|Nov 01 |\n",
            "|'793423314333134850'|Tue Nov 01 12:03:...|         True|             0|            0|@aakashwangnoo Pl...|Nov 01 |\n",
            "|'793492430666498050'|Tue Nov 01 16:38:...|         True|             0|            0|@aakashwangnoo Hi...|Nov 01 |\n",
            "|'793551822476705793'|Tue Nov 01 20:34:...|         True|             0|            0|@aakashwangnoo He...|Nov 01 |\n",
            "|'793551823147765765'|Tue Nov 01 20:34:...|         True|             0|            0|@aakashwangnoo at...|Nov 01 |\n",
            "|'793676510494359552'|Wed Nov 02 04:50:...|         True|             0|            0|@aakashwangnoo So...|Nov 02 |\n",
            "|'793322306848292864'|Tue Nov 01 05:22:...|         True|             0|            0|@Murtazansp Hello...|Nov 01 |\n",
            "|'793322433625415680'|Tue Nov 01 05:23:...|         True|             0|            0|@Murtazansp Could...|Nov 01 |\n",
            "|'793872301339148288'|Wed Nov 02 17:48:...|         True|             0|            0|@Murtazansp Hi, s...|Nov 02 |\n",
            "|'793872423271661568'|Wed Nov 02 17:48:...|         True|             0|            0|@Murtazansp Pleas...|Nov 02 |\n",
            "|'795207462160896001'|Sun Nov 06 10:13:...|         True|             0|            0|@Murtazansp Hey t...|Nov 06 |\n",
            "|'793375905280393216'|Tue Nov 01 08:55:...|         True|             0|            0|@anchitkhar Hello...|Nov 01 |\n",
            "|'793397280254472193'|Tue Nov 01 10:20:...|         True|             0|            0|@anchitkhar HI! W...|Nov 01 |\n",
            "|'793534958073679872'|Tue Nov 01 19:27:...|         True|             0|            0|@anchitkhar Hey! ...|Nov 01 |\n",
            "|'793378044052406272'|Tue Nov 01 09:04:...|         True|             0|            0|@imkapsicum Hey, ...|Nov 01 |\n",
            "+--------------------+--------------------+-------------+--------------+-------------+--------------------+-------+\n",
            "only showing top 20 rows\n",
            "\n"
          ],
          "name": "stdout"
        }
      ]
    },
    {
      "cell_type": "code",
      "metadata": {
        "id": "H4kdFzF_sMkV",
        "colab_type": "code",
        "outputId": "b3b06fd8-d90c-4fe6-88d3-5ef0c1acc2ba",
        "colab": {
          "base_uri": "https://localhost:8080/",
          "height": 164
        }
      },
      "source": [
        "df2_grouped= df2.groupby(\"day\")"
      ],
      "execution_count": 0,
      "outputs": [
        {
          "output_type": "error",
          "ename": "NameError",
          "evalue": "ignored",
          "traceback": [
            "\u001b[0;31m---------------------------------------------------------------------------\u001b[0m",
            "\u001b[0;31mNameError\u001b[0m                                 Traceback (most recent call last)",
            "\u001b[0;32m<ipython-input-1-abda616ada47>\u001b[0m in \u001b[0;36m<module>\u001b[0;34m()\u001b[0m\n\u001b[0;32m----> 1\u001b[0;31m \u001b[0mdf2_grouped\u001b[0m\u001b[0;34m=\u001b[0m \u001b[0mdf2\u001b[0m\u001b[0;34m.\u001b[0m\u001b[0mgroupby\u001b[0m\u001b[0;34m(\u001b[0m\u001b[0;34m\"day\"\u001b[0m\u001b[0;34m)\u001b[0m\u001b[0;34m\u001b[0m\u001b[0;34m\u001b[0m\u001b[0m\n\u001b[0m",
            "\u001b[0;31mNameError\u001b[0m: name 'df2' is not defined"
          ]
        }
      ]
    },
    {
      "cell_type": "markdown",
      "metadata": {
        "id": "91sgfXji_l2o",
        "colab_type": "text"
      },
      "source": [
        ""
      ]
    },
    {
      "cell_type": "markdown",
      "metadata": {
        "id": "xAOM7WDf5m-c",
        "colab_type": "text"
      },
      "source": [
        "using sql\n"
      ]
    },
    {
      "cell_type": "code",
      "metadata": {
        "id": "0oo7t4qF1Qz7",
        "colab_type": "code",
        "colab": {}
      },
      "source": [
        "df2.createOrReplaceTempView(\"table1\")"
      ],
      "execution_count": 0,
      "outputs": []
    },
    {
      "cell_type": "code",
      "metadata": {
        "id": "PU2bCUPkmJWI",
        "colab_type": "code",
        "outputId": "afedf507-8e01-429e-d90b-7103ab9761aa",
        "colab": {
          "base_uri": "https://localhost:8080/",
          "height": 166
        }
      },
      "source": [
        "df2.show()"
      ],
      "execution_count": 0,
      "outputs": [
        {
          "output_type": "error",
          "ename": "NameError",
          "evalue": "ignored",
          "traceback": [
            "\u001b[0;31m---------------------------------------------------------------------------\u001b[0m",
            "\u001b[0;31mNameError\u001b[0m                                 Traceback (most recent call last)",
            "\u001b[0;32m<ipython-input-1-1d45a0548e2e>\u001b[0m in \u001b[0;36m<module>\u001b[0;34m()\u001b[0m\n\u001b[0;32m----> 1\u001b[0;31m \u001b[0mdf2\u001b[0m\u001b[0;34m.\u001b[0m\u001b[0mshow\u001b[0m\u001b[0;34m(\u001b[0m\u001b[0;34m)\u001b[0m\u001b[0;34m\u001b[0m\u001b[0;34m\u001b[0m\u001b[0m\n\u001b[0m",
            "\u001b[0;31mNameError\u001b[0m: name 'df2' is not defined"
          ]
        }
      ]
    },
    {
      "cell_type": "code",
      "metadata": {
        "id": "zmig0LUukwli",
        "colab_type": "code",
        "colab": {}
      },
      "source": [
        "query = '''SELECT day, count(day) as sum FROM table1 GROUP BY day ORDER BY sum DESC'''"
      ],
      "execution_count": 0,
      "outputs": []
    },
    {
      "cell_type": "code",
      "metadata": {
        "id": "TqFTu2t82NtU",
        "colab_type": "code",
        "outputId": "ddd7dc3a-607c-402d-d16d-c6538aa0eb5b",
        "colab": {
          "base_uri": "https://localhost:8080/",
          "height": 204
        }
      },
      "source": [
        "spark.sql(query).show(5)"
      ],
      "execution_count": 0,
      "outputs": [
        {
          "output_type": "stream",
          "text": [
            "+-------+----+\n",
            "|    day| sum|\n",
            "+-------+----+\n",
            "|Jan 03 |1536|\n",
            "|Jan 10 |1508|\n",
            "|Jan 11 |1496|\n",
            "|Jan 12 |1410|\n",
            "|Jan 06 |1364|\n",
            "+-------+----+\n",
            "only showing top 5 rows\n",
            "\n"
          ],
          "name": "stdout"
        }
      ]
    },
    {
      "cell_type": "code",
      "metadata": {
        "id": "GlqYHyGX1eST",
        "colab_type": "code",
        "colab": {}
      },
      "source": [
        "query1 = '''SELECT id_str, (favorite_count+ retweet_count) as total, text_  FROM table1 WHERE day = \"Jan 03 \" ORDER BY total DESC LIMIT 100'''"
      ],
      "execution_count": 0,
      "outputs": []
    },
    {
      "cell_type": "code",
      "metadata": {
        "id": "fh2Xd8OiHMTg",
        "colab_type": "code",
        "colab": {}
      },
      "source": [
        "df4 = spark.sql(query1)"
      ],
      "execution_count": 0,
      "outputs": []
    },
    {
      "cell_type": "code",
      "metadata": {
        "id": "38fbHpD_q6UT",
        "colab_type": "code",
        "outputId": "4f2ff93f-2c37-4606-81c5-ecf700a89fe9",
        "colab": {
          "base_uri": "https://localhost:8080/",
          "height": 459
        }
      },
      "source": [
        "df4.show()"
      ],
      "execution_count": 0,
      "outputs": [
        {
          "output_type": "stream",
          "text": [
            "+--------------------+-----+--------------------+\n",
            "|              id_str|total|               text_|\n",
            "+--------------------+-----+--------------------+\n",
            "|'816329761530093568'|  5.0|@amazon worst sho...|\n",
            "|'816083406962434048'|  3.0|@ItsJosshA We alw...|\n",
            "|'816086117938319360'|  2.0|@ItsJosshA Oh no!...|\n",
            "|'816095108013654017'|  2.0|@KStefl Sounds li...|\n",
            "|'816109446069911554'|  2.0|@Schoey1992 Happy...|\n",
            "|'816157517428523008'|  2.0|@ratbones666 You ...|\n",
            "|'816217909819297792'|  2.0|@ThorpPerrow Awww...|\n",
            "|'816314295680110593'|  2.0|@thedexterouz Hi!...|\n",
            "|'816090553595084800'|  1.0|@matt_linsley Ple...|\n",
            "|'816165445925474304'|  1.0|@VlSlT Sorry to h...|\n",
            "|'816323706431668226'|  1.0|@PPramod2041984 H...|\n",
            "|'816190084546498560'|  1.0|@mailstosandeep H...|\n",
            "|'816072943495249921'|  1.0|@Elidan_8 Here's ...|\n",
            "|'816074813408165888'|  1.0|@joyfulneesh Than...|\n",
            "|'816077071801810944'|  1.0|@brooklynnnross I...|\n",
            "|'816086664053456896'|  1.0|@DurhamBelle I'm ...|\n",
            "|'816092970168549376'|  1.0|@heypardeep We're...|\n",
            "|'816093471610195968'|  1.0|@__NaijaDrew Sorr...|\n",
            "|'816203796342833152'|  1.0|@magsophazjon Ple...|\n",
            "|'816204084709654528'|  1.0|@magsophazjon Hey...|\n",
            "+--------------------+-----+--------------------+\n",
            "only showing top 20 rows\n",
            "\n"
          ],
          "name": "stdout"
        }
      ]
    },
    {
      "cell_type": "code",
      "metadata": {
        "id": "Q9olNplns22L",
        "colab_type": "code",
        "colab": {}
      },
      "source": [
        "import pandas as pd\n",
        "\n",
        "df5 = df4.select(\"text_\").toPandas()\n",
        "df5.to_csv(\"df5_text.txt\")"
      ],
      "execution_count": 0,
      "outputs": []
    },
    {
      "cell_type": "code",
      "metadata": {
        "id": "8_1yMmckr92b",
        "colab_type": "code",
        "colab": {}
      },
      "source": [
        "counts = sc.textFile(\"df5_text.txt\")\\\n",
        ".flatMap(lambda line: line.split()\\\n",
        ".map(lambda word: (word,1))\\\n",
        ".reduceByKey(lambda v1, v2: v1+v2)"
      ],
      "execution_count": 0,
      "outputs": []
    },
    {
      "cell_type": "code",
      "metadata": {
        "id": "64XwTn9fwJmG",
        "colab_type": "code",
        "outputId": "ae2e1674-ec13-4877-978f-d985a3a8c8bd",
        "colab": {
          "base_uri": "https://localhost:8080/",
          "height": 204
        }
      },
      "source": [
        "word_freq = sorted(counts.collect(), key= lambda freq: freq[1], reverse=True)\n",
        "df6 = spark.createDataFrame(word_freq, [\"Word\", \"Frequency\"])\n",
        "df6.repartition(1).write.format(\"com.databricks.spark.csv\").option(\"header\", \"true\")\\\n",
        ".save(\"/content/drive/My Drive/ids561_hw2_solutions/word_freq.csv\")\n",
        "df6.show(5)"
      ],
      "execution_count": 0,
      "outputs": [
        {
          "output_type": "stream",
          "text": [
            "+----+---------+\n",
            "|Word|Frequency|\n",
            "+----+---------+\n",
            "| the|       63|\n",
            "|  to|       62|\n",
            "| for|       50|\n",
            "| you|       45|\n",
            "|your|       32|\n",
            "+----+---------+\n",
            "only showing top 5 rows\n",
            "\n"
          ],
          "name": "stdout"
        }
      ]
    },
    {
      "cell_type": "markdown",
      "metadata": {
        "id": "-7n46oehxp9m",
        "colab_type": "text"
      },
      "source": [
        "The word with the highest frequency was 'the', which was repeated 63 times"
      ]
    },
    {
      "cell_type": "markdown",
      "metadata": {
        "id": "OVYuuFANK-Ad",
        "colab_type": "text"
      },
      "source": [
        "Task 2"
      ]
    },
    {
      "cell_type": "code",
      "metadata": {
        "id": "e-bFqzp1K9O5",
        "colab_type": "code",
        "colab": {}
      },
      "source": [
        "find_text_rdd = spark.read.csv(\"/content/drive/My Drive/find_text.csv\", header = True, inferSchema=True)"
      ],
      "execution_count": 0,
      "outputs": []
    },
    {
      "cell_type": "code",
      "metadata": {
        "id": "yMSyezQqLHMb",
        "colab_type": "code",
        "outputId": "3a50a70a-655d-4759-a676-744fe569b93c",
        "colab": {
          "base_uri": "https://localhost:8080/",
          "height": 204
        }
      },
      "source": [
        "find_text_rdd.show(5)"
      ],
      "execution_count": 0,
      "outputs": [
        {
          "output_type": "stream",
          "text": [
            "+--------------------+----+\n",
            "|              id_str|text|\n",
            "+--------------------+----+\n",
            "|'793270689780203520'|null|\n",
            "|'793281386912354304'|null|\n",
            "|'793299404975247360'|null|\n",
            "|'793301295255945216'|null|\n",
            "|'793315815411978240'|null|\n",
            "+--------------------+----+\n",
            "only showing top 5 rows\n",
            "\n"
          ],
          "name": "stdout"
        }
      ]
    },
    {
      "cell_type": "code",
      "metadata": {
        "id": "Z-3lnlIeLX42",
        "colab_type": "code",
        "colab": {}
      },
      "source": [
        "find_text_rdd.createOrReplaceTempView(\"tablefind\")"
      ],
      "execution_count": 0,
      "outputs": []
    },
    {
      "cell_type": "code",
      "metadata": {
        "id": "GSOng755LceF",
        "colab_type": "code",
        "colab": {}
      },
      "source": [
        "query_find = '''SELECT DISTINCT(table1.id_str) as id_str, text_ as text FROM table1 LEFT JOIN tablefind ON table1.id_str = tablefind.id_str '''"
      ],
      "execution_count": 0,
      "outputs": []
    },
    {
      "cell_type": "code",
      "metadata": {
        "id": "GwU3N7pGL4Vw",
        "colab_type": "code",
        "outputId": "402a4ff0-9aaf-4c1a-df11-8072ef7b2616",
        "colab": {
          "base_uri": "https://localhost:8080/",
          "height": 34
        }
      },
      "source": [
        "df7 = spark.sql(query_find)\n",
        "df7.count()#.show(5)"
      ],
      "execution_count": 0,
      "outputs": [
        {
          "output_type": "execute_result",
          "data": {
            "text/plain": [
              "171797"
            ]
          },
          "metadata": {
            "tags": []
          },
          "execution_count": 227
        }
      ]
    },
    {
      "cell_type": "code",
      "metadata": {
        "id": "2O_r3EobzPNj",
        "colab_type": "code",
        "colab": {}
      },
      "source": [
        "df7.repartition(1).write.format(\"com.databricks.spark.csv\").option(\"header\", \"true\")\\\n",
        ".save(\"/content/drive/My Drive/ids561_hw2_solutions/find_text.csv\")"
      ],
      "execution_count": 0,
      "outputs": []
    }
  ]
}