{
  "nbformat": 4,
  "nbformat_minor": 0,
  "metadata": {
    "colab": {
      "name": "Untitled2.ipynb",
      "provenance": []
    },
    "kernelspec": {
      "name": "python3",
      "display_name": "Python 3"
    },
    "accelerator": "TPU"
  },
  "cells": [
    {
      "cell_type": "code",
      "metadata": {
        "id": "GcBnwcyULHxe",
        "colab_type": "code",
        "colab": {}
      },
      "source": [
        "!wget -q http://apache.mirrors.hoobly.com/spark/spark-2.4.5/spark-2.4.5-bin-hadoop2.7.tgz"
      ],
      "execution_count": 0,
      "outputs": []
    },
    {
      "cell_type": "code",
      "metadata": {
        "id": "aj5ZI3ZaLJ89",
        "colab_type": "code",
        "colab": {}
      },
      "source": [
        "#Untar the Spark installer\n",
        "!tar -xvf spark-2.4.5-bin-hadoop2.7.tgz"
      ],
      "execution_count": 0,
      "outputs": []
    },
    {
      "cell_type": "code",
      "metadata": {
        "id": "FqZ4tii4LQDQ",
        "colab_type": "code",
        "outputId": "b182f074-8af0-4699-de73-af11bfb9e3b9",
        "colab": {
          "base_uri": "https://localhost:8080/",
          "height": 52
        }
      },
      "source": [
        "!ls "
      ],
      "execution_count": 59,
      "outputs": [
        {
          "output_type": "stream",
          "text": [
            "spark-2.4.5-bin-hadoop2.7      spark-2.4.5-bin-hadoop2.7.tgz.1\n",
            "spark-2.4.5-bin-hadoop2.7.tgz  u.data\n"
          ],
          "name": "stdout"
        }
      ]
    },
    {
      "cell_type": "code",
      "metadata": {
        "id": "z4jehF8lLSHz",
        "colab_type": "code",
        "colab": {}
      },
      "source": [
        "!pip install -q findspark"
      ],
      "execution_count": 0,
      "outputs": []
    },
    {
      "cell_type": "code",
      "metadata": {
        "id": "qlJ14072LUqE",
        "colab_type": "code",
        "colab": {}
      },
      "source": [
        "import os\n",
        "os.environ[\"JAVA_HOME\"] = \"/usr/lib/jvm/java-8-openjdk-amd64\"\n",
        "os.environ[\"SPARK_HOME\"] = \"/content/spark-2.4.5-bin-hadoop2.7\""
      ],
      "execution_count": 0,
      "outputs": []
    },
    {
      "cell_type": "code",
      "metadata": {
        "id": "1OKG1ShNLWJQ",
        "colab_type": "code",
        "colab": {}
      },
      "source": [
        "import findspark\n",
        "findspark.init()\n",
        "from pyspark.sql import SparkSession\n",
        "spark = SparkSession.builder.master(\"local[*]\").getOrCreate()"
      ],
      "execution_count": 0,
      "outputs": []
    },
    {
      "cell_type": "code",
      "metadata": {
        "id": "OQ-ZebEg3n4E",
        "colab_type": "code",
        "colab": {}
      },
      "source": [
        "from pyspark import SparkContext\n",
        "sc = SparkContext.getOrCreate();"
      ],
      "execution_count": 0,
      "outputs": []
    },
    {
      "cell_type": "code",
      "metadata": {
        "id": "wQFGRK98G_Sa",
        "colab_type": "code",
        "outputId": "4b53a923-c942-413e-8b5a-152df0938dcf",
        "colab": {
          "base_uri": "https://localhost:8080/",
          "height": 34
        }
      },
      "source": [
        "from google.colab import drive\n",
        "drive.mount('/content/drive')"
      ],
      "execution_count": 64,
      "outputs": [
        {
          "output_type": "stream",
          "text": [
            "Drive already mounted at /content/drive; to attempt to forcibly remount, call drive.mount(\"/content/drive\", force_remount=True).\n"
          ],
          "name": "stdout"
        }
      ]
    },
    {
      "cell_type": "code",
      "metadata": {
        "id": "vFGhtR_VHGdS",
        "colab_type": "code",
        "outputId": "7eb8a3a7-fb21-437b-fda1-62b59ce7a0a4",
        "colab": {
          "base_uri": "https://localhost:8080/",
          "height": 70
        }
      },
      "source": [
        "%cd /content/drive/My Drive/Big Data - Final Assignment\n",
        "!ls"
      ],
      "execution_count": 65,
      "outputs": [
        {
          "output_type": "stream",
          "text": [
            "/content/drive/My Drive/Big Data - Final Assignment\n",
            "spark-2.4.5-bin-hadoop2.7      spark-2.4.5-bin-hadoop2.7.tgz.1\n",
            "spark-2.4.5-bin-hadoop2.7.tgz  u.data\n"
          ],
          "name": "stdout"
        }
      ]
    },
    {
      "cell_type": "code",
      "metadata": {
        "id": "01t1cKOb5NGl",
        "colab_type": "code",
        "colab": {}
      },
      "source": [
        "from pyspark.mllib.recommendation import ALS, MatrixFactorizationModel, Rating"
      ],
      "execution_count": 0,
      "outputs": []
    },
    {
      "cell_type": "code",
      "metadata": {
        "id": "L3YgdUvG60w8",
        "colab_type": "code",
        "outputId": "43b550c0-83e2-41c5-d514-ff2d6fad0cb0",
        "colab": {
          "base_uri": "https://localhost:8080/",
          "height": 474
        }
      },
      "source": [
        "data = sc.textFile(\"/content/drive/My Drive/Big Data - Final Assignment/u.data\")\n",
        "\n",
        "#Splitting the data\n",
        "data = data.map(lambda x:x.split('\\t'))\n",
        "#Converting the data to Spark DataFrame\n",
        "data_df = data.toDF()\n",
        "#Showing the first 20 rows of the dataframe\n",
        "data_df.show()"
      ],
      "execution_count": 67,
      "outputs": [
        {
          "output_type": "stream",
          "text": [
            "+---+----+---+---------+\n",
            "| _1|  _2| _3|       _4|\n",
            "+---+----+---+---------+\n",
            "|196| 242|  3|881250949|\n",
            "|186| 302|  3|891717742|\n",
            "| 22| 377|  1|878887116|\n",
            "|244|  51|  2|880606923|\n",
            "|166| 346|  1|886397596|\n",
            "|298| 474|  4|884182806|\n",
            "|115| 265|  2|881171488|\n",
            "|253| 465|  5|891628467|\n",
            "|305| 451|  3|886324817|\n",
            "|  6|  86|  3|883603013|\n",
            "| 62| 257|  2|879372434|\n",
            "|286|1014|  5|879781125|\n",
            "|200| 222|  5|876042340|\n",
            "|210|  40|  3|891035994|\n",
            "|224|  29|  3|888104457|\n",
            "|303| 785|  3|879485318|\n",
            "|122| 387|  5|879270459|\n",
            "|194| 274|  2|879539794|\n",
            "|291|1042|  4|874834944|\n",
            "|234|1184|  2|892079237|\n",
            "+---+----+---+---------+\n",
            "only showing top 20 rows\n",
            "\n"
          ],
          "name": "stdout"
        }
      ]
    },
    {
      "cell_type": "code",
      "metadata": {
        "id": "E9bYT8WLS15h",
        "colab_type": "code",
        "colab": {}
      },
      "source": [
        "from pyspark.sql.types import NumericType\n",
        "import pandas as pd\n",
        "\n",
        "new_data = data_df.select(\"_1\", \"_2\", \"_3\")\n",
        "\n",
        "#Change the Column Names of new_data Spark Dataframe\n",
        "new_data = new_data.selectExpr(\"_1 as user_id\", \"_2 as item_id\", \"_3 as rating\")\n",
        "new_df   = new_data.toPandas()\n",
        "\n",
        "#new_data = new_data.withColumn(\"user_id\", new_data[\"user_id\"].cast(NumericType()))\n",
        "#new_data = new_data.withColumn(\"item_id\", new_data.item_id.cast(NumericType()))\n",
        "#new_data = new_data.withColumn(\"ratings\", new_data.ratings.cast(NumericType()))\n",
        "\n",
        "#new_data.show()\n",
        "new_df[\"user_id\"] = pd.to_numeric(new_df[\"user_id\"])\n",
        "new_df[\"item_id\"] = pd.to_numeric(new_df[\"item_id\"])\n",
        "new_df[\"rating\"]  = pd.to_numeric(new_df[\"rating\"])"
      ],
      "execution_count": 0,
      "outputs": []
    },
    {
      "cell_type": "code",
      "metadata": {
        "id": "ZoMyi4iDcXcT",
        "colab_type": "code",
        "colab": {}
      },
      "source": [
        "data_new = spark.createDataFrame(new_df)"
      ],
      "execution_count": 0,
      "outputs": []
    },
    {
      "cell_type": "code",
      "metadata": {
        "id": "Piunue3fTEst",
        "colab_type": "code",
        "outputId": "b251a7ab-6837-4d06-e8bd-5362d52bc1c4",
        "colab": {
          "base_uri": "https://localhost:8080/",
          "height": 105
        }
      },
      "source": [
        "#Split the Ratings into Train and Test\n",
        "\n",
        "train, test = data_new.randomSplit([0.8,0.2])\n",
        "\n",
        "#cache the data to speed up training\n",
        "train.cache()\n",
        "test.cache()\n",
        "\n",
        "train.take(5)"
      ],
      "execution_count": 70,
      "outputs": [
        {
          "output_type": "execute_result",
          "data": {
            "text/plain": [
              "[Row(user_id=1, item_id=1, rating=5),\n",
              " Row(user_id=1, item_id=2, rating=3),\n",
              " Row(user_id=1, item_id=5, rating=3),\n",
              " Row(user_id=1, item_id=6, rating=5),\n",
              " Row(user_id=1, item_id=8, rating=1)]"
            ]
          },
          "metadata": {
            "tags": []
          },
          "execution_count": 70
        }
      ]
    },
    {
      "cell_type": "code",
      "metadata": {
        "id": "ZlbtDgaLVFBf",
        "colab_type": "code",
        "outputId": "57f7c9af-dfb6-41c1-e02a-a8464003503b",
        "colab": {
          "base_uri": "https://localhost:8080/",
          "height": 34
        }
      },
      "source": [
        "from pyspark.ml.recommendation import ALS\n",
        "from pyspark.ml.evaluation import RegressionEvaluator\n",
        "\n",
        "#Create the model on the training data\n",
        "als = ALS(userCol=\"user_id\", itemCol=\"item_id\", ratingCol=\"rating\", coldStartStrategy=\"drop\")\n",
        "\n",
        "model = als.fit(train)\n",
        "\n",
        "# Generate predictions on test_data\n",
        "predictions = model.transform(test)\n",
        "\n",
        "# Tell Spark how to evaluate predictions\n",
        "evaluator = RegressionEvaluator(metricName=\"rmse\", labelCol=\"rating\", predictionCol=\"prediction\")\n",
        "\n",
        "# Obtain and print RMSE\n",
        "rmse = evaluator.evaluate(predictions)\n",
        "print (\"RMSE: \", rmse)"
      ],
      "execution_count": 71,
      "outputs": [
        {
          "output_type": "stream",
          "text": [
            "RMSE:  0.9187412998120554\n"
          ],
          "name": "stdout"
        }
      ]
    },
    {
      "cell_type": "code",
      "metadata": {
        "id": "ouAuTAGYpoPy",
        "colab_type": "code",
        "colab": {}
      },
      "source": [
        "# Tell Spark what values to try for each hyperparameter\n",
        "from pyspark.ml.tuning import ParamGridBuilder\n",
        "\n",
        "param_grid = ParamGridBuilder()\\\n",
        ".addGrid(als.rank, [5, 40, 80, 120])\\\n",
        ".addGrid(als.regParam, [.05, .1, 1.5])\\\n",
        ".build()\n",
        "\n",
        "# Tell Spark how to evaluate model performance\n",
        "evaluator = RegressionEvaluator(metricName=\"rmse\", labelCol=\"rating\", predictionCol=\"prediction\")\n",
        "\n",
        "# Build cross validation step using CrossValidator\n",
        "from pyspark.ml.tuning import CrossValidator\n",
        "cv = CrossValidator(estimator = als, estimatorParamMaps = param_grid, evaluator = evaluator, numFolds = 5)\n",
        "\n",
        "# Run the cv on the training data\n",
        "model = cv.fit(train)\n",
        "\n",
        "# Extract best combination of values from cross validation\n",
        "best_model = model.bestModel"
      ],
      "execution_count": 0,
      "outputs": []
    },
    {
      "cell_type": "code",
      "metadata": {
        "id": "KmHoufA2w47y",
        "colab_type": "code",
        "colab": {
          "base_uri": "https://localhost:8080/",
          "height": 52
        },
        "outputId": "e6bb06f7-487e-42de-92d5-85beea868bff"
      },
      "source": [
        "# Extract best combination of values from cross validation\n",
        "best_model  = model.bestModel\n",
        "\n",
        "# Generate test set predictions and evaluate using RMSE\n",
        "predictions = best_model.transform(test)\n",
        "rmse        = evaluator.evaluate(predictions)\n",
        "\n",
        "# Print evaluation metrics and model parameters\n",
        "print (\"**Best Model**\")\n",
        "print (\"RMSE = \", rmse)"
      ],
      "execution_count": 73,
      "outputs": [
        {
          "output_type": "stream",
          "text": [
            "**Best Model**\n",
            "RMSE =  0.9126183644345486\n"
          ],
          "name": "stdout"
        }
      ]
    },
    {
      "cell_type": "code",
      "metadata": {
        "id": "YNvE2tX4xTFi",
        "colab_type": "code",
        "colab": {
          "base_uri": "https://localhost:8080/",
          "height": 213
        },
        "outputId": "5158f1ef-8032-4b39-885e-79766394dd3c"
      },
      "source": [
        "# Getting TOP 10 Item Id's for every User based on the Best Model which we have built\n",
        "from pyspark.mllib.recommendation import ALS,MatrixFactorizationModel, Rating\n",
        "from pyspark.ml.recommendation import ALS, ALSModel\n",
        "\n",
        "top10 = best_model.recommendForAllUsers(10)\n",
        "top10.take(10)"
      ],
      "execution_count": 144,
      "outputs": [
        {
          "output_type": "execute_result",
          "data": {
            "text/plain": [
              "[Row(user_id=471, recommendations=[Row(item_id=465, rating=4.49593448638916), Row(item_id=932, rating=4.468419551849365), Row(item_id=140, rating=4.42611026763916), Row(item_id=143, rating=4.40766716003418), Row(item_id=477, rating=4.402740478515625), Row(item_id=422, rating=4.381832599639893), Row(item_id=225, rating=4.311626434326172), Row(item_id=272, rating=4.242356300354004), Row(item_id=82, rating=4.2368693351745605), Row(item_id=393, rating=4.221230983734131)]),\n",
              " Row(user_id=463, recommendations=[Row(item_id=887, rating=4.26688289642334), Row(item_id=253, rating=4.2500410079956055), Row(item_id=19, rating=4.1852006912231445), Row(item_id=1167, rating=4.14856481552124), Row(item_id=169, rating=4.130365371704102), Row(item_id=1449, rating=4.12411642074585), Row(item_id=221, rating=4.09617805480957), Row(item_id=408, rating=4.083878517150879), Row(item_id=114, rating=4.067584037780762), Row(item_id=20, rating=4.065301895141602)]),\n",
              " Row(user_id=833, recommendations=[Row(item_id=1597, rating=4.599562644958496), Row(item_id=1070, rating=4.438033103942871), Row(item_id=1187, rating=4.37693977355957), Row(item_id=589, rating=4.363377571105957), Row(item_id=179, rating=4.345875263214111), Row(item_id=32, rating=4.330877780914307), Row(item_id=1019, rating=4.314675331115723), Row(item_id=192, rating=4.263535976409912), Row(item_id=488, rating=4.247421741485596), Row(item_id=23, rating=4.229132652282715)]),\n",
              " Row(user_id=496, recommendations=[Row(item_id=56, rating=4.199036121368408), Row(item_id=774, rating=4.193563461303711), Row(item_id=42, rating=4.122989177703857), Row(item_id=532, rating=4.105189323425293), Row(item_id=652, rating=4.054079532623291), Row(item_id=277, rating=4.03001594543457), Row(item_id=89, rating=4.014145374298096), Row(item_id=721, rating=3.9969136714935303), Row(item_id=50, rating=3.9577863216400146), Row(item_id=190, rating=3.957479238510132)]),\n",
              " Row(user_id=148, recommendations=[Row(item_id=169, rating=4.9421563148498535), Row(item_id=408, rating=4.7820725440979), Row(item_id=50, rating=4.696219444274902), Row(item_id=172, rating=4.668948650360107), Row(item_id=114, rating=4.657822132110596), Row(item_id=168, rating=4.620887279510498), Row(item_id=1449, rating=4.609126567840576), Row(item_id=516, rating=4.607855319976807), Row(item_id=174, rating=4.5630035400390625), Row(item_id=529, rating=4.525300025939941)]),\n",
              " Row(user_id=540, recommendations=[Row(item_id=1449, rating=4.706140518188477), Row(item_id=169, rating=4.6748738288879395), Row(item_id=1131, rating=4.646194934844971), Row(item_id=127, rating=4.59962797164917), Row(item_id=515, rating=4.578835964202881), Row(item_id=114, rating=4.5487799644470215), Row(item_id=318, rating=4.548077583312988), Row(item_id=483, rating=4.520665168762207), Row(item_id=98, rating=4.509875297546387), Row(item_id=64, rating=4.495575904846191)]),\n",
              " Row(user_id=392, recommendations=[Row(item_id=511, rating=4.931130886077881), Row(item_id=603, rating=4.852672100067139), Row(item_id=357, rating=4.8449387550354), Row(item_id=483, rating=4.814886093139648), Row(item_id=1449, rating=4.80156135559082), Row(item_id=654, rating=4.8010053634643555), Row(item_id=1463, rating=4.80017614364624), Row(item_id=178, rating=4.799576282501221), Row(item_id=1142, rating=4.794585227966309), Row(item_id=134, rating=4.773327827453613)]),\n",
              " Row(user_id=243, recommendations=[Row(item_id=285, rating=4.359741687774658), Row(item_id=251, rating=4.3593621253967285), Row(item_id=1449, rating=4.322390556335449), Row(item_id=483, rating=4.3113813400268555), Row(item_id=408, rating=4.303920269012451), Row(item_id=1281, rating=4.24526834487915), Row(item_id=511, rating=4.243372917175293), Row(item_id=923, rating=4.23145055770874), Row(item_id=632, rating=4.212818622589111), Row(item_id=114, rating=4.20507287979126)]),\n",
              " Row(user_id=623, recommendations=[Row(item_id=174, rating=4.713065147399902), Row(item_id=50, rating=4.522812366485596), Row(item_id=496, rating=4.449122428894043), Row(item_id=194, rating=4.387392044067383), Row(item_id=172, rating=4.374724864959717), Row(item_id=22, rating=4.318251609802246), Row(item_id=318, rating=4.308952331542969), Row(item_id=204, rating=4.243200778961182), Row(item_id=210, rating=4.241640567779541), Row(item_id=132, rating=4.223418235778809)]),\n",
              " Row(user_id=737, recommendations=[Row(item_id=127, rating=4.687412738800049), Row(item_id=192, rating=4.588785648345947), Row(item_id=156, rating=4.583541393280029), Row(item_id=100, rating=4.509628772735596), Row(item_id=1449, rating=4.495774269104004), Row(item_id=474, rating=4.4947028160095215), Row(item_id=179, rating=4.4594292640686035), Row(item_id=652, rating=4.450631618499756), Row(item_id=137, rating=4.433874607086182), Row(item_id=119, rating=4.4278388023376465)])]"
            ]
          },
          "metadata": {
            "tags": []
          },
          "execution_count": 144
        }
      ]
    },
    {
      "cell_type": "code",
      "metadata": {
        "id": "L1-d9eUaAKpZ",
        "colab_type": "code",
        "colab": {}
      },
      "source": [
        "#Converting the Spark Dataframe to Pandas Dataframe for slicing item id's\n",
        "top10_rec = top10.toPandas()"
      ],
      "execution_count": 0,
      "outputs": []
    },
    {
      "cell_type": "code",
      "metadata": {
        "id": "gfq64LlTAiiT",
        "colab_type": "code",
        "colab": {}
      },
      "source": [
        "#Fetching only the item ids from the recommendations\n",
        "for i in range(len(top10_rec)):\n",
        "  lst  = top10_rec.iloc[i,1]\n",
        "  top10_new = []\n",
        "  top10_itemids = 0\n",
        "\n",
        "  for j in range(len(lst)):\n",
        "    lst1 = lst[j]\n",
        "    top10_new.append(str(lst1[0])) \n",
        "  top10_itemids = ', '.join(top10_new)\n",
        "  top10_rec.loc[i, 'recommendations'] = top10_itemids"
      ],
      "execution_count": 0,
      "outputs": []
    },
    {
      "cell_type": "code",
      "metadata": {
        "id": "dLAu3zWgoLXS",
        "colab_type": "code",
        "colab": {
          "base_uri": "https://localhost:8080/",
          "height": 402
        },
        "outputId": "b4fa88ba-7790-4b7e-c993-39ecac7689e4"
      },
      "source": [
        "#The final dataframe having the recommended item ids's for every user\n",
        "top10_rec"
      ],
      "execution_count": 143,
      "outputs": [
        {
          "output_type": "execute_result",
          "data": {
            "text/html": [
              "<div>\n",
              "<style scoped>\n",
              "    .dataframe tbody tr th:only-of-type {\n",
              "        vertical-align: middle;\n",
              "    }\n",
              "\n",
              "    .dataframe tbody tr th {\n",
              "        vertical-align: top;\n",
              "    }\n",
              "\n",
              "    .dataframe thead th {\n",
              "        text-align: right;\n",
              "    }\n",
              "</style>\n",
              "<table border=\"1\" class=\"dataframe\">\n",
              "  <thead>\n",
              "    <tr style=\"text-align: right;\">\n",
              "      <th></th>\n",
              "      <th>user_id</th>\n",
              "      <th>recommendations</th>\n",
              "    </tr>\n",
              "  </thead>\n",
              "  <tbody>\n",
              "    <tr>\n",
              "      <th>0</th>\n",
              "      <td>471</td>\n",
              "      <td>465, 932, 140, 143, 477, 422, 225, 272, 82, 393</td>\n",
              "    </tr>\n",
              "    <tr>\n",
              "      <th>1</th>\n",
              "      <td>463</td>\n",
              "      <td>887, 253, 19, 1167, 169, 1449, 221, 408, 114, 20</td>\n",
              "    </tr>\n",
              "    <tr>\n",
              "      <th>2</th>\n",
              "      <td>833</td>\n",
              "      <td>1597, 1070, 1187, 589, 179, 32, 1019, 192, 488...</td>\n",
              "    </tr>\n",
              "    <tr>\n",
              "      <th>3</th>\n",
              "      <td>496</td>\n",
              "      <td>56, 774, 42, 532, 652, 277, 89, 721, 50, 190</td>\n",
              "    </tr>\n",
              "    <tr>\n",
              "      <th>4</th>\n",
              "      <td>148</td>\n",
              "      <td>169, 408, 50, 172, 114, 168, 1449, 516, 174, 529</td>\n",
              "    </tr>\n",
              "    <tr>\n",
              "      <th>...</th>\n",
              "      <td>...</td>\n",
              "      <td>...</td>\n",
              "    </tr>\n",
              "    <tr>\n",
              "      <th>938</th>\n",
              "      <td>208</td>\n",
              "      <td>496, 136, 64, 1450, 435, 88, 966, 194, 316, 520</td>\n",
              "    </tr>\n",
              "    <tr>\n",
              "      <th>939</th>\n",
              "      <td>401</td>\n",
              "      <td>316, 528, 735, 958, 318, 610, 963, 162, 98, 196</td>\n",
              "    </tr>\n",
              "    <tr>\n",
              "      <th>940</th>\n",
              "      <td>422</td>\n",
              "      <td>1449, 320, 474, 98, 483, 1131, 127, 919, 64, 59</td>\n",
              "    </tr>\n",
              "    <tr>\n",
              "      <th>941</th>\n",
              "      <td>517</td>\n",
              "      <td>1177, 300, 761, 258, 50, 1056, 89, 223, 12, 408</td>\n",
              "    </tr>\n",
              "    <tr>\n",
              "      <th>942</th>\n",
              "      <td>89</td>\n",
              "      <td>313, 272, 169, 813, 174, 269, 127, 246, 64, 189</td>\n",
              "    </tr>\n",
              "  </tbody>\n",
              "</table>\n",
              "<p>943 rows × 2 columns</p>\n",
              "</div>"
            ],
            "text/plain": [
              "     user_id                                    recommendations\n",
              "0        471    465, 932, 140, 143, 477, 422, 225, 272, 82, 393\n",
              "1        463   887, 253, 19, 1167, 169, 1449, 221, 408, 114, 20\n",
              "2        833  1597, 1070, 1187, 589, 179, 32, 1019, 192, 488...\n",
              "3        496       56, 774, 42, 532, 652, 277, 89, 721, 50, 190\n",
              "4        148   169, 408, 50, 172, 114, 168, 1449, 516, 174, 529\n",
              "..       ...                                                ...\n",
              "938      208    496, 136, 64, 1450, 435, 88, 966, 194, 316, 520\n",
              "939      401    316, 528, 735, 958, 318, 610, 963, 162, 98, 196\n",
              "940      422    1449, 320, 474, 98, 483, 1131, 127, 919, 64, 59\n",
              "941      517    1177, 300, 761, 258, 50, 1056, 89, 223, 12, 408\n",
              "942       89    313, 272, 169, 813, 174, 269, 127, 246, 64, 189\n",
              "\n",
              "[943 rows x 2 columns]"
            ]
          },
          "metadata": {
            "tags": []
          },
          "execution_count": 143
        }
      ]
    },
    {
      "cell_type": "code",
      "metadata": {
        "id": "B7ku47NzvT-q",
        "colab_type": "code",
        "colab": {}
      },
      "source": [
        "#Exporting the file to a Text file\n",
        "top10_rec.to_csv(r'/content/drive/My Drive/Big Data - Final Assignment\\top10recommendations1.txt', index=None, sep='\\t', mode='a')"
      ],
      "execution_count": 0,
      "outputs": []
    }
  ]
}